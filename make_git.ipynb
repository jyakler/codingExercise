{
 "cells": [
  {
   "cell_type": "code",
   "execution_count": 7,
   "metadata": {},
   "outputs": [],
   "source": [
    "from PIL import Image\n",
    "import random\n",
    "import pandas as pd\n",
    "import numpy as np\n",
    "import matplotlib.pyplot as plt"
   ]
  },
  {
   "cell_type": "code",
   "execution_count": 12,
   "metadata": {},
   "outputs": [
    {
     "data": {
      "text/plain": [
       "[3, 10, 11, 2, 1, 7, 15, 4, 8, 9, 13, 6, 14, 12, 5]"
      ]
     },
     "execution_count": 12,
     "metadata": {},
     "output_type": "execute_result"
    }
   ],
   "source": [
    "sorted_array=[i for i in range(1,16)]\n",
    "reverse_array=[i for i in range(15,0,-1)]\n",
    "random_array=random.sample(range(1,16),15)"
   ]
  },
  {
   "cell_type": "code",
   "execution_count": 20,
   "metadata": {},
   "outputs": [],
   "source": [
    "def color_tick(bars,i,j):\n",
    "    bars[i].set_color('black')\n",
    "    bars[j].set_color('black')"
   ]
  },
  {
   "cell_type": "code",
   "execution_count": null,
   "metadata": {},
   "outputs": [],
   "source": [
    "for array in [sorted_array,reverse_array,random_array]:\n",
    "    data=selection(array)"
   ]
  },
  {
   "cell_type": "code",
   "execution_count": null,
   "metadata": {},
   "outputs": [],
   "source": [
    "def selection(array):\n",
    "    result=[]\n",
    "    for i in range(len(array)):\n",
    "        current=array[i]\n",
    "        min_index=array.index(min(array[i:]))\n",
    "        array[i],array[min_index]=array[min_index],array[i]"
   ]
  },
  {
   "cell_type": "code",
   "execution_count": 18,
   "metadata": {},
   "outputs": [
    {
     "data": {
      "image/png": "[encoded data removed]",
      "text/plain": [
       "<Figure size 432x288 with 1 Axes>"
      ]
     },
     "metadata": {},
     "output_type": "display_data"
    }
   ],
   "source": [
    "import matplotlib.pyplot as plt\n",
    "def make_graph(data,num):\n",
    "\n",
    "    # Create figure and axis objects\n",
    "    fig, ax = plt.subplots()\n",
    "\n",
    "    # Set the background color to black and the spine color to white\n",
    "    fig.patch.set_facecolor('black')\n",
    "    ax.spines['bottom'].set_color('white')\n",
    "    ax.spines['left'].set_color('white')\n",
    "\n",
    "    # Create bar chart with black edges and white bars\n",
    "\n",
    "    bars=ax.bar(range(len(data)), data, color='white', edgecolor='black')\n",
    "    color_tick(bars,i,j)\n",
    "    # Remove ticks and labels from both x and y axes\n",
    "    ax.tick_params(axis='both', which='both', length=0)\n",
    "    bars[1].set_color('black')\n",
    "    bars[3].set_color('black')\n",
    "    ax.set_xticklabels([])\n",
    "    ax.set_yticklabels([])\n",
    "\n",
    "    # Show the plot\n",
    "    plt.show()\n"
   ]
  },
  {
   "cell_type": "code",
   "execution_count": 38,
   "metadata": {},
   "outputs": [],
   "source": [
    "# Create figure and axis objects\n",
    "data=[1,2,3,4,5]\n",
    "fig, ax = plt.subplots()\n",
    "\n",
    "# Set the background color to black and the spine color to white\n",
    "fig.patch.set_facecolor('black')\n",
    "ax.spines['bottom'].set_color('white')\n",
    "ax.spines['left'].set_color('white')\n",
    "\n",
    "# Create bar chart with black edges and white bars\n",
    "\n",
    "bars=ax.bar(range(len(data)), data, color='white', edgecolor='black')\n",
    "# color_tick(bars,i,j)\n",
    "# Remove ticks and labels from both x and y axes\n",
    "ax.tick_params(axis='both', which='both', length=0)\n",
    "bars[1].set_color('black')\n",
    "bars[3].set_color('black')\n",
    "ax.set_xticklabels([])\n",
    "ax.set_yticklabels([])\n",
    "\n",
    "# Show the plot\n",
    "plt.show()"
   ]
  },
  {
   "cell_type": "code",
   "execution_count": null,
   "metadata": {},
   "outputs": [],
   "source": [
    "#미완성"
   ]
  }
 ],
 "metadata": {
  "kernelspec": {
   "display_name": "pydatavenv",
   "language": "python",
   "name": "pydatavenv"
  },
  "language_info": {
   "codemirror_mode": {
    "name": "ipython",
    "version": 3
   },
   "file_extension": ".py",
   "mimetype": "text/x-python",
   "name": "python",
   "nbconvert_exporter": "python",
   "pygments_lexer": "ipython3",
   "version": "3.9.12"
  },
  "orig_nbformat": 4
 },
 "nbformat": 4,
 "nbformat_minor": 2
}
